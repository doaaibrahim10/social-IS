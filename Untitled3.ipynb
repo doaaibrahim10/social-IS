{
 "cells": [
  {
   "cell_type": "code",
   "execution_count": 4,
   "id": "daeff65d",
   "metadata": {},
   "outputs": [
    {
     "data": {
      "image/png": "[encoded data removed]",
      "text/plain": [
       "<Figure size 432x288 with 1 Axes>"
      ]
     },
     "metadata": {},
     "output_type": "display_data"
    }
   ],
   "source": [
    "import networkx as nx\n",
    "g=nx.Graph()\n",
    "nodes=[1,2,3,4,6]\n",
    "g.add_nodes_from(nodes)\n",
    "edges=[(1, 2),(1,3),(1,4),(2,3),(2,4),(3,4),(4,6)]\n",
    "g.add_edges_from(edges)\n",
    "nx.draw(g, with_labels=True,node_color='red',node_size=400,font_color='white',font_size=10)\n",
    "\n"
   ]
  },
  {
   "cell_type": "code",
   "execution_count": 6,
   "id": "200b8253",
   "metadata": {},
   "outputs": [
    {
     "data": {
      "text/plain": [
       "EdgeView([(1, 2), (1, 3), (1, 4), (2, 3), (2, 4), (3, 4), (4, 6)])"
      ]
     },
     "execution_count": 6,
     "metadata": {},
     "output_type": "execute_result"
    }
   ],
   "source": [
    "g.nodes()\n",
    "g.edges()"
   ]
  },
  {
   "cell_type": "code",
   "execution_count": 8,
   "id": "3d0d4915",
   "metadata": {},
   "outputs": [
    {
     "name": "stdout",
     "output_type": "stream",
     "text": [
      "1\n",
      "2\n",
      "3\n",
      "4\n",
      "6\n"
     ]
    }
   ],
   "source": [
    "for node in g.nodes:\n",
    "    print(node)"
   ]
  },
  {
   "cell_type": "code",
   "execution_count": 9,
   "id": "a35d6784",
   "metadata": {},
   "outputs": [
    {
     "name": "stdout",
     "output_type": "stream",
     "text": [
      "(1, 2)\n",
      "(1, 3)\n",
      "(1, 4)\n",
      "(2, 3)\n",
      "(2, 4)\n",
      "(3, 4)\n",
      "(4, 6)\n"
     ]
    }
   ],
   "source": [
    "for edge in g.edges:\n",
    "    print(edge)"
   ]
  },
  {
   "cell_type": "code",
   "execution_count": 19,
   "id": "0308df2f",
   "metadata": {},
   "outputs": [
    {
     "data": {
      "text/plain": [
       "4"
      ]
     },
     "execution_count": 19,
     "metadata": {},
     "output_type": "execute_result"
    }
   ],
   "source": [
    "g.number_of_nodes()"
   ]
  },
  {
   "cell_type": "code",
   "execution_count": 20,
   "id": "1597e9c6",
   "metadata": {},
   "outputs": [
    {
     "data": {
      "text/plain": [
       "6"
      ]
     },
     "execution_count": 20,
     "metadata": {},
     "output_type": "execute_result"
    }
   ],
   "source": [
    "g.number_of_edges()"
   ]
  },
  {
   "cell_type": "code",
   "execution_count": 23,
   "id": "f1702b42",
   "metadata": {},
   "outputs": [
    {
     "name": "stdout",
     "output_type": "stream",
     "text": [
      "2\n",
      "3\n",
      "4\n"
     ]
    }
   ],
   "source": [
    "for neighbour in g.neighbors(1):\n",
    "    print(neighbour)"
   ]
  },
  {
   "cell_type": "code",
   "execution_count": 24,
   "id": "ed9f5816",
   "metadata": {},
   "outputs": [
    {
     "data": {
      "text/plain": [
       "[2, 3, 4]"
      ]
     },
     "execution_count": 24,
     "metadata": {},
     "output_type": "execute_result"
    }
   ],
   "source": [
    "list(g.neighbors(1))"
   ]
  },
  {
   "cell_type": "code",
   "execution_count": 25,
   "id": "0c0f7dc6",
   "metadata": {},
   "outputs": [
    {
     "data": {
      "text/plain": [
       "False"
      ]
     },
     "execution_count": 25,
     "metadata": {},
     "output_type": "execute_result"
    }
   ],
   "source": [
    "nx.is_tree(g)"
   ]
  },
  {
   "cell_type": "code",
   "execution_count": 26,
   "id": "5b845a34",
   "metadata": {},
   "outputs": [
    {
     "data": {
      "text/plain": [
       "True"
      ]
     },
     "execution_count": 26,
     "metadata": {},
     "output_type": "execute_result"
    }
   ],
   "source": [
    "nx.is_connected(g)"
   ]
  },
  {
   "cell_type": "code",
   "execution_count": 28,
   "id": "4d664e30",
   "metadata": {},
   "outputs": [
    {
     "data": {
      "text/plain": [
       "True"
      ]
     },
     "execution_count": 28,
     "metadata": {},
     "output_type": "execute_result"
    }
   ],
   "source": [
    "g.has_node(1)"
   ]
  },
  {
   "cell_type": "code",
   "execution_count": 30,
   "id": "cdae1d92",
   "metadata": {},
   "outputs": [
    {
     "data": {
      "text/plain": [
       "False"
      ]
     },
     "execution_count": 30,
     "metadata": {},
     "output_type": "execute_result"
    }
   ],
   "source": [
    "g.has_node(5)"
   ]
  },
  {
   "cell_type": "code",
   "execution_count": 32,
   "id": "1468b45f",
   "metadata": {},
   "outputs": [
    {
     "data": {
      "text/plain": [
       "True"
      ]
     },
     "execution_count": 32,
     "metadata": {},
     "output_type": "execute_result"
    }
   ],
   "source": [
    "1 in g.nodes"
   ]
  },
  {
   "cell_type": "code",
   "execution_count": 33,
   "id": "16efe317",
   "metadata": {},
   "outputs": [
    {
     "data": {
      "text/plain": [
       "False"
      ]
     },
     "execution_count": 33,
     "metadata": {},
     "output_type": "execute_result"
    }
   ],
   "source": [
    "5 in g.nodes"
   ]
  },
  {
   "cell_type": "code",
   "execution_count": 34,
   "id": "82b44e70",
   "metadata": {},
   "outputs": [
    {
     "data": {
      "text/plain": [
       "True"
      ]
     },
     "execution_count": 34,
     "metadata": {},
     "output_type": "execute_result"
    }
   ],
   "source": [
    "g.has_edge(1,2)"
   ]
  },
  {
   "cell_type": "code",
   "execution_count": 35,
   "id": "e0c340ee",
   "metadata": {},
   "outputs": [
    {
     "data": {
      "text/plain": [
       "False"
      ]
     },
     "execution_count": 35,
     "metadata": {},
     "output_type": "execute_result"
    }
   ],
   "source": [
    "g.has_edge(1,5)"
   ]
  },
  {
   "cell_type": "code",
   "execution_count": 36,
   "id": "90964396",
   "metadata": {},
   "outputs": [
    {
     "data": {
      "text/plain": [
       "True"
      ]
     },
     "execution_count": 36,
     "metadata": {},
     "output_type": "execute_result"
    }
   ],
   "source": [
    "(1,3) in g.edges"
   ]
  },
  {
   "cell_type": "code",
   "execution_count": 40,
   "id": "a20d4be4",
   "metadata": {},
   "outputs": [
    {
     "data": {
      "text/plain": [
       "3"
      ]
     },
     "execution_count": 40,
     "metadata": {},
     "output_type": "execute_result"
    }
   ],
   "source": [
    "len(list(g.neighbors(1)))"
   ]
  },
  {
   "cell_type": "code",
   "execution_count": 41,
   "id": "f3cc244b",
   "metadata": {},
   "outputs": [
    {
     "data": {
      "text/plain": [
       "3"
      ]
     },
     "execution_count": 41,
     "metadata": {},
     "output_type": "execute_result"
    }
   ],
   "source": [
    "g.degree(1)"
   ]
  },
  {
   "cell_type": "code",
   "execution_count": 19,
   "id": "e69a663e",
   "metadata": {},
   "outputs": [
    {
     "name": "stdout",
     "output_type": "stream",
     "text": [
      "the node of 1 degree is :\n",
      "[6]\n"
     ]
    }
   ],
   "source": [
    "#the node of one degree:(Exersise 1)\n",
    "def get_leaves(g):\n",
    "    for node in g.nodes:\n",
    "        li=[]\n",
    "        if g.degree(node)==1:\n",
    "            li.append(node)\n",
    "            print(li)\n",
    "print(\"the node of 1 degree is :\")            \n",
    "get_leaves(g)            "
   ]
  },
  {
   "cell_type": "code",
   "execution_count": 15,
   "id": "dacb8844",
   "metadata": {},
   "outputs": [
    {
     "data": {
      "text/plain": [
       "['DOAA', 'IBRAHIM', 'MOHAMED']"
      ]
     },
     "execution_count": 15,
     "metadata": {},
     "output_type": "execute_result"
    }
   ],
   "source": [
    "list1=['doaa','ibrahim','mohamed']\n",
    "[s.upper() for s in list1]"
   ]
  },
  {
   "cell_type": "code",
   "execution_count": 50,
   "id": "9455544d",
   "metadata": {},
   "outputs": [
    {
     "name": "stdout",
     "output_type": "stream",
     "text": [
      "[1, 2, 3, 4, 6]\n",
      "[3, 3, 3, 4, 1]\n"
     ]
    }
   ],
   "source": [
    "print(g.nodes())\n",
    "print([g.degree(n) for n in g.nodes()])"
   ]
  },
  {
   "cell_type": "code",
   "execution_count": 57,
   "id": "4f363f92",
   "metadata": {},
   "outputs": [
    {
     "data": {
      "text/plain": [
       "[4, 7, 7]"
      ]
     },
     "execution_count": 57,
     "metadata": {},
     "output_type": "execute_result"
    }
   ],
   "source": [
    "g1=(len(s) for s in list1)\n",
    "list(g1)"
   ]
  },
  {
   "cell_type": "code",
   "execution_count": 58,
   "id": "5306a21a",
   "metadata": {},
   "outputs": [
    {
     "data": {
      "text/plain": [
       "7"
      ]
     },
     "execution_count": 58,
     "metadata": {},
     "output_type": "execute_result"
    }
   ],
   "source": [
    "max(len(s) for s in list1)"
   ]
  },
  {
   "cell_type": "code",
   "execution_count": 59,
   "id": "18954f81",
   "metadata": {},
   "outputs": [
    {
     "data": {
      "text/plain": [
       "['DOAA', 'IBRAHIM', 'MOHAMED']"
      ]
     },
     "execution_count": 59,
     "metadata": {},
     "output_type": "execute_result"
    }
   ],
   "source": [
    "sorted(s.upper() for s in list1)"
   ]
  },
  {
   "cell_type": "code",
   "execution_count": 21,
   "id": "9fa86804",
   "metadata": {},
   "outputs": [
    {
     "data": {
      "image/png": "[encoded data removed]",
      "text/plain": [
       "<Figure size 432x288 with 1 Axes>"
      ]
     },
     "metadata": {},
     "output_type": "display_data"
    }
   ],
   "source": [
    "#Directed graphs:\n",
    "d=nx.DiGraph()\n",
    "d.add_edges_from([(1,2),(2,3),(3,4),(3,5),(4,5)])\n",
    "nx.draw(d, with_labels=True,node_color='red',node_size=400,font_color='white',font_size=10)\n"
   ]
  },
  {
   "cell_type": "code",
   "execution_count": 65,
   "id": "968add36",
   "metadata": {},
   "outputs": [
    {
     "name": "stdout",
     "output_type": "stream",
     "text": [
      "George Frank Dennis\n",
      "Dennis Claire Esther\n",
      "Claire Frank Alice Esther\n",
      "Bob Alice\n",
      "Frank Alice\n",
      "Alice\n",
      "Esther\n",
      "Shelly\n",
      "\n"
     ]
    }
   ],
   "source": [
    "print(open('friends.adjlist').read())"
   ]
  },
  {
   "cell_type": "code",
   "execution_count": 66,
   "id": "692aeea3",
   "metadata": {},
   "outputs": [],
   "source": [
    "SG = nx.read_adjlist('friends.adjlist')"
   ]
  },
  {
   "cell_type": "code",
   "execution_count": 78,
   "id": "b15a832e",
   "metadata": {},
   "outputs": [
    {
     "data": {
      "image/png": "[encoded data removed]",
      "text/plain": [
       "<Figure size 432x288 with 1 Axes>"
      ]
     },
     "metadata": {},
     "output_type": "display_data"
    }
   ],
   "source": [
    "nx.draw(SG, node_size=2000, node_color='lightblue', with_labels=True)"
   ]
  },
  {
   "cell_type": "code",
   "execution_count": 22,
   "id": "dafc8b40",
   "metadata": {},
   "outputs": [
    {
     "data": {
      "text/plain": [
       "True"
      ]
     },
     "execution_count": 22,
     "metadata": {},
     "output_type": "execute_result"
    }
   ],
   "source": [
    "d.has_edge(1,2)"
   ]
  },
  {
   "cell_type": "code",
   "execution_count": 23,
   "id": "58881d71",
   "metadata": {},
   "outputs": [
    {
     "data": {
      "text/plain": [
       "False"
      ]
     },
     "execution_count": 23,
     "metadata": {},
     "output_type": "execute_result"
    }
   ],
   "source": [
    "d.has_edge(2,1)"
   ]
  },
  {
   "cell_type": "code",
   "execution_count": 27,
   "id": "447cba2e",
   "metadata": {},
   "outputs": [
    {
     "name": "stdout",
     "output_type": "stream",
     "text": [
      "Successors of 3: [4, 5]\n"
     ]
    }
   ],
   "source": [
    "print('Successors of 3:', list(d.successors(3)))"
   ]
  },
  {
   "cell_type": "code",
   "execution_count": 29,
   "id": "eb2fae3e",
   "metadata": {},
   "outputs": [
    {
     "name": "stdout",
     "output_type": "stream",
     "text": [
      "Predecessors of 4: [3]\n"
     ]
    }
   ],
   "source": [
    "print('Predecessors of 4:', list(d.predecessors(4)))"
   ]
  },
  {
   "cell_type": "code",
   "execution_count": 34,
   "id": "f97b950d",
   "metadata": {},
   "outputs": [
    {
     "data": {
      "text/plain": [
       "2"
      ]
     },
     "execution_count": 34,
     "metadata": {},
     "output_type": "execute_result"
    }
   ],
   "source": [
    "d.in_degree(5)"
   ]
  },
  {
   "cell_type": "code",
   "execution_count": 36,
   "id": "197d9063",
   "metadata": {},
   "outputs": [
    {
     "data": {
      "text/plain": [
       "0"
      ]
     },
     "execution_count": 36,
     "metadata": {},
     "output_type": "execute_result"
    }
   ],
   "source": [
    "d.out_degree(5)"
   ]
  },
  {
   "cell_type": "code",
   "execution_count": 38,
   "id": "f88c0943",
   "metadata": {},
   "outputs": [
    {
     "data": {
      "text/plain": [
       "3"
      ]
     },
     "execution_count": 38,
     "metadata": {},
     "output_type": "execute_result"
    }
   ],
   "source": [
    "d.degree(3)"
   ]
  },
  {
   "cell_type": "code",
   "execution_count": 39,
   "id": "9abcacda",
   "metadata": {},
   "outputs": [
    {
     "name": "stdout",
     "output_type": "stream",
     "text": [
      "\"neighbors\" of 4: [5]\n"
     ]
    }
   ],
   "source": [
    "print('\"neighbors\" of 4:', list(d.neighbors(4)))"
   ]
  },
  {
   "cell_type": "code",
   "execution_count": 44,
   "id": "6acae81d",
   "metadata": {},
   "outputs": [
    {
     "data": {
      "text/plain": [
       "3"
      ]
     },
     "execution_count": 44,
     "metadata": {},
     "output_type": "execute_result"
    }
   ],
   "source": [
    "SG.degree('Alice')"
   ]
  },
  {
   "cell_type": "code",
   "execution_count": 64,
   "id": "940c2d15",
   "metadata": {},
   "outputs": [
    {
     "name": "stdout",
     "output_type": "stream",
     "text": [
      "[2, 3, 4]\n"
     ]
    }
   ],
   "source": [
    "list_1=[]\n",
    "list_1=list(SG.neighbors(1))\n"
   ]
  },
  {
   "cell_type": "code",
   "execution_count": 73,
   "id": "79764506",
   "metadata": {},
   "outputs": [
    {
     "name": "stdout",
     "output_type": "stream",
     "text": [
      "['Dennis', 'Frank']\n"
     ]
    }
   ],
   "source": [
    "#EXERCISE 3:\n",
    "def mutual_friends(s,n1,n2):\n",
    "    listofres=[]\n",
    "    list_1=list(s.neighbors(n1))\n",
    "    list_2=list(s.neighbors(n2))\n",
    "    for i in range(len(list_1)):\n",
    "        for j in range(len(list_2)):\n",
    "            if list_1[i]==list_2[j]:\n",
    "                listofres.append(list_1[i])\n",
    "    print(listofres)\n",
    "    \n",
    "(mutual_friends(SG, 'Claire', 'George'))"
   ]
  },
  {
   "cell_type": "code",
   "execution_count": 81,
   "id": "96008bd2",
   "metadata": {},
   "outputs": [
    {
     "name": "stdout",
     "output_type": "stream",
     "text": [
      "['Claire', 4]\n"
     ]
    }
   ],
   "source": [
    "#EXERCISE 2:\n",
    "def max_degree(s):\n",
    "    list1=[]\n",
    "    mx=0\n",
    "    for node in s.nodes:\n",
    "        if s.degree(node)>mx:\n",
    "            mx=s.degree(node)\n",
    "            n=node\n",
    "    \n",
    "    list1.append(n)\n",
    "    list1.append(mx)\n",
    "    print(list1)\n",
    "\n",
    "max_degree(SG)    "
   ]
  },
  {
   "cell_type": "code",
   "execution_count": null,
   "id": "8abbbb60",
   "metadata": {},
   "outputs": [],
   "source": []
  },
  {
   "cell_type": "code",
   "execution_count": null,
   "id": "419c6233",
   "metadata": {},
   "outputs": [],
   "source": []
  }
 ],
 "metadata": {
  "kernelspec": {
   "display_name": "Python 3 (ipykernel)",
   "language": "python",
   "name": "python3"
  },
  "language_info": {
   "codemirror_mode": {
    "name": "ipython",
    "version": 3
   },
   "file_extension": ".py",
   "mimetype": "text/x-python",
   "name": "python",
   "nbconvert_exporter": "python",
   "pygments_lexer": "ipython3",
   "version": "3.9.7"
  }
 },
 "nbformat": 4,
 "nbformat_minor": 5
}
